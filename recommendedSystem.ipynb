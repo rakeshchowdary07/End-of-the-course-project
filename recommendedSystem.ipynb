{
 "cells": [
  {
   "cell_type": "code",
   "execution_count": 1,
   "metadata": {},
   "outputs": [],
   "source": [
    "import pandas as pd\n",
    "import matplotlib.pyplot as plt\n",
    "import seaborn as sns\n",
    "import warnings\n",
    "sns.set_style('dark')\n",
    "warnings.filterwarnings(\"ignore\")"
   ]
  },
  {
   "cell_type": "markdown",
   "metadata": {},
   "source": [
    "## Input Data"
   ]
  },
  {
   "cell_type": "code",
   "execution_count": 2,
   "metadata": {},
   "outputs": [],
   "source": [
    "data = pd.read_csv('final_complete_data.csv')"
   ]
  },
  {
   "cell_type": "code",
   "execution_count": 3,
   "metadata": {},
   "outputs": [
    {
     "data": {
      "text/html": [
       "<div>\n",
       "<style scoped>\n",
       "    .dataframe tbody tr th:only-of-type {\n",
       "        vertical-align: middle;\n",
       "    }\n",
       "\n",
       "    .dataframe tbody tr th {\n",
       "        vertical-align: top;\n",
       "    }\n",
       "\n",
       "    .dataframe thead th {\n",
       "        text-align: right;\n",
       "    }\n",
       "</style>\n",
       "<table border=\"1\" class=\"dataframe\">\n",
       "  <thead>\n",
       "    <tr style=\"text-align: right;\">\n",
       "      <th></th>\n",
       "      <th>tconst</th>\n",
       "      <th>Score</th>\n",
       "      <th>NormalisedScore</th>\n",
       "      <th>Year</th>\n",
       "      <th>wordcount</th>\n",
       "      <th>totalemotion</th>\n",
       "      <th>Emotional Expression</th>\n",
       "      <th>Pos-Neg</th>\n",
       "      <th>Agressiveness</th>\n",
       "      <th>Anger</th>\n",
       "      <th>...</th>\n",
       "      <th>Sadness</th>\n",
       "      <th>Submission</th>\n",
       "      <th>Surprise</th>\n",
       "      <th>Trust</th>\n",
       "      <th>AFINN(-4&amp;-5)</th>\n",
       "      <th>Ero</th>\n",
       "      <th>titleType</th>\n",
       "      <th>primaryTitle</th>\n",
       "      <th>nconst</th>\n",
       "      <th>director</th>\n",
       "    </tr>\n",
       "  </thead>\n",
       "  <tbody>\n",
       "    <tr>\n",
       "      <th>0</th>\n",
       "      <td>tt12389600</td>\n",
       "      <td>8.9</td>\n",
       "      <td>87.234043</td>\n",
       "      <td>1957</td>\n",
       "      <td>6759.0</td>\n",
       "      <td>2574.0</td>\n",
       "      <td>48.237495</td>\n",
       "      <td>41.224131</td>\n",
       "      <td>32.022145</td>\n",
       "      <td>32.019506</td>\n",
       "      <td>...</td>\n",
       "      <td>37.488846</td>\n",
       "      <td>15.337365</td>\n",
       "      <td>32.420845</td>\n",
       "      <td>34.706143</td>\n",
       "      <td>0.040480</td>\n",
       "      <td>10.181415</td>\n",
       "      <td>tvEpisode</td>\n",
       "      <td>12 Angry Men (1957)</td>\n",
       "      <td>nm6020528</td>\n",
       "      <td>['Rob Boor']</td>\n",
       "    </tr>\n",
       "    <tr>\n",
       "      <th>1</th>\n",
       "      <td>tt0047478</td>\n",
       "      <td>8.6</td>\n",
       "      <td>80.851064</td>\n",
       "      <td>1954</td>\n",
       "      <td>3563.0</td>\n",
       "      <td>1617.0</td>\n",
       "      <td>68.210889</td>\n",
       "      <td>42.359376</td>\n",
       "      <td>19.030303</td>\n",
       "      <td>39.224978</td>\n",
       "      <td>...</td>\n",
       "      <td>40.912603</td>\n",
       "      <td>16.276388</td>\n",
       "      <td>23.094899</td>\n",
       "      <td>30.772156</td>\n",
       "      <td>19.278291</td>\n",
       "      <td>20.043469</td>\n",
       "      <td>movie</td>\n",
       "      <td>Seven Samurai</td>\n",
       "      <td>nm0000041</td>\n",
       "      <td>['Akira Kurosawa']</td>\n",
       "    </tr>\n",
       "  </tbody>\n",
       "</table>\n",
       "<p>2 rows × 32 columns</p>\n",
       "</div>"
      ],
      "text/plain": [
       "       tconst  Score  NormalisedScore  Year  wordcount  totalemotion  \\\n",
       "0  tt12389600    8.9        87.234043  1957     6759.0        2574.0   \n",
       "1   tt0047478    8.6        80.851064  1954     3563.0        1617.0   \n",
       "\n",
       "   Emotional Expression    Pos-Neg  Agressiveness      Anger  ...    Sadness  \\\n",
       "0             48.237495  41.224131      32.022145  32.019506  ...  37.488846   \n",
       "1             68.210889  42.359376      19.030303  39.224978  ...  40.912603   \n",
       "\n",
       "   Submission   Surprise      Trust  AFINN(-4&-5)        Ero  titleType  \\\n",
       "0   15.337365  32.420845  34.706143      0.040480  10.181415  tvEpisode   \n",
       "1   16.276388  23.094899  30.772156     19.278291  20.043469      movie   \n",
       "\n",
       "          primaryTitle     nconst            director  \n",
       "0  12 Angry Men (1957)  nm6020528        ['Rob Boor']  \n",
       "1        Seven Samurai  nm0000041  ['Akira Kurosawa']  \n",
       "\n",
       "[2 rows x 32 columns]"
      ]
     },
     "execution_count": 3,
     "metadata": {},
     "output_type": "execute_result"
    }
   ],
   "source": [
    "data.head(2)"
   ]
  },
  {
   "cell_type": "markdown",
   "metadata": {},
   "source": [
    "## Recommendations Based on Emotion type"
   ]
  },
  {
   "cell_type": "code",
   "execution_count": 4,
   "metadata": {},
   "outputs": [],
   "source": [
    "def sort_by_emotion(emotion, count):\n",
    "    emotional_data = data.sort_values(by=[emotion], ascending=False)\n",
    "    print(emotional_data[['Score','primaryTitle','titleType',emotion, \"director\"]].head(count))\n",
    "    emotional_data.head(count).plot(x = \"primaryTitle\", y = emotion, kind = \"bar\")\n",
    "    plt.show()"
   ]
  },
  {
   "cell_type": "code",
   "execution_count": 5,
   "metadata": {},
   "outputs": [
    {
     "name": "stdout",
     "output_type": "stream",
     "text": [
      "    Score         primaryTitle  titleType  Agressiveness             director\n",
      "23    8.5          City Lights      movie      47.370690  ['Charles Chaplin']\n",
      "10    8.3              Amadeus      movie      40.008172     ['Milos Forman']\n",
      "0     8.9  12 Angry Men (1957)  tvEpisode      32.022145         ['Rob Boor']\n",
      "6     8.2         A Separation      short      29.772674         ['Yalan Hu']\n",
      "68    8.2             Scarface      movie      26.732432   ['Brian De Palma']\n"
     ]
    },
    {
     "data": {
      "image/png": "[encoded data removed]",
      "text/plain": [
       "<Figure size 432x288 with 1 Axes>"
      ]
     },
     "metadata": {},
     "output_type": "display_data"
    }
   ],
   "source": [
    "sort_by_emotion(\"Agressiveness\", 5)"
   ]
  },
  {
   "cell_type": "markdown",
   "metadata": {},
   "source": [
    "## Recommendations based on Emotion and Time period"
   ]
  },
  {
   "cell_type": "code",
   "execution_count": 6,
   "metadata": {},
   "outputs": [],
   "source": [
    "def sort_by_year_emotion(emotion, year_start, year_end, limit):\n",
    "    data_year = data[((data.Year >= year_start) & (data.Year <= year_end))].sort_values(by=['Year'], ascending=True)\n",
    "    data_emotion = data_year.sort_values(by=[emotion], ascending=False)\n",
    "    print(data_emotion[['Score','Year','primaryTitle','titleType',emotion, \"director\"]].head(limit))\n",
    "    data_emotion.head(limit).plot(x = \"primaryTitle\", y = emotion, kind = \"bar\")"
   ]
  },
  {
   "cell_type": "code",
   "execution_count": 17,
   "metadata": {},
   "outputs": [
    {
     "name": "stdout",
     "output_type": "stream",
     "text": [
      "    Score  Year            primaryTitle titleType      Anger  \\\n",
      "36    8.3  1987       Full Metal Jacket     movie  33.475033   \n",
      "39    8.6  1990              Goodfellas     movie  31.188208   \n",
      "40    8.4  1988  Grave of the Fireflies     movie  31.141707   \n",
      "21    8.4  1988         Cinema Paradiso     movie  22.406215   \n",
      "9     8.3  1986                  Aliens     movie  20.884473   \n",
      "\n",
      "                  director  \n",
      "36     ['Stanley Kubrick']  \n",
      "39     ['Martin Scorsese']  \n",
      "40       ['Isao Takahata']  \n",
      "21  ['Giuseppe Tornatore']  \n",
      "9        ['James Cameron']  \n"
     ]
    },
    {
     "data": {
      "image/png": "[encoded data removed]",
      "text/plain": [
       "<Figure size 432x288 with 1 Axes>"
      ]
     },
     "metadata": {},
     "output_type": "display_data"
    }
   ],
   "source": [
    "sort_by_year_emotion(\"Anger\", 1985,1990,5)"
   ]
  },
  {
   "cell_type": "code",
   "execution_count": 8,
   "metadata": {},
   "outputs": [],
   "source": [
    "#hh = data.loc[data['primaryTitle']=='Seven Samurai']\n",
    "#hh.plot('primaryTitle',['Emotional Expression','Agressiveness','Anger','Anticipation','Awe','Contempt','Disgust','Dissaproval','Fear',\n",
    "#                    'Joy','Love','Negative','Optimism','Positive','Remorse','Trust','Pos-Neg','Sadness','Submission','Surprise'],kind = 'bar')"
   ]
  },
  {
   "cell_type": "markdown",
   "metadata": {},
   "source": [
    "## Recommendations based on Director Name"
   ]
  },
  {
   "cell_type": "code",
   "execution_count": 9,
   "metadata": {},
   "outputs": [],
   "source": [
    "def director(directorname):\n",
    "    director_data = data.loc[data['director']==directorname]\n",
    "    print(director_data[['Score','Year','primaryTitle','titleType', \"director\"]])\n"
   ]
  },
  {
   "cell_type": "code",
   "execution_count": 10,
   "metadata": {},
   "outputs": [
    {
     "name": "stdout",
     "output_type": "stream",
     "text": [
      "   Score  Year                        primaryTitle  titleType      director\n",
      "0    8.9  1957                 12 Angry Men (1957)  tvEpisode  ['Rob Boor']\n",
      "2    8.3  1984  Once Upon A Time In America (1984)  tvEpisode  ['Rob Boor']\n"
     ]
    }
   ],
   "source": [
    "director('[\\'Rob Boor\\']')"
   ]
  },
  {
   "cell_type": "markdown",
   "metadata": {},
   "source": [
    "## Recommendations Based on Movie name.\n",
    "finds the highest emotional score for the given movie and give results based on that emotion."
   ]
  },
  {
   "cell_type": "code",
   "execution_count": 11,
   "metadata": {},
   "outputs": [],
   "source": [
    "def by_title(title):\n",
    "    data1 = data.loc[data['primaryTitle']== title]\n",
    "    data1.drop([\"NormalisedScore\", \"Year\", \"wordcount\", \"totalemotion\", \"Emotional Expression\", \"Pos-Neg\", \"tconst\", \"titleType\",\"primaryTitle\",\"nconst\",\"director\"], axis = 1, inplace = True)\n",
    "    data2 = data1.idxmax(axis = 1)\n",
    "    dd = list(data2)\n",
    "    data_movie = data.sort_values(by=dd[0] , ascending=False)\n",
    "    print(data_movie[['Score','Year','primaryTitle','titleType',dd[0]]].head())"
   ]
  },
  {
   "cell_type": "code",
   "execution_count": 12,
   "metadata": {},
   "outputs": [
    {
     "name": "stdout",
     "output_type": "stream",
     "text": [
      "    Score  Year        primaryTitle titleType      Trust\n",
      "60    8.4  1957      Paths of Glory     movie  95.731117\n",
      "48    8.2  1962  Lawrence of Arabia     movie  91.630259\n",
      "5     8.3  1971  A Clockwork Orange     movie  86.796997\n",
      "37    8.5  2000           Gladiator     movie  78.046007\n",
      "23    8.5  1931         City Lights     movie  74.755836\n"
     ]
    }
   ],
   "source": [
    "by_title('Scarface')"
   ]
  }
 ],
 "metadata": {
  "kernelspec": {
   "display_name": "Python 3",
   "language": "python",
   "name": "python3"
  },
  "language_info": {
   "codemirror_mode": {
    "name": "ipython",
    "version": 3
   },
   "file_extension": ".py",
   "mimetype": "text/x-python",
   "name": "python",
   "nbconvert_exporter": "python",
   "pygments_lexer": "ipython3",
   "version": "3.8.5"
  }
 },
 "nbformat": 4,
 "nbformat_minor": 4
}
