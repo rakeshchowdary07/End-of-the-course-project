{
 "cells": [
  {
   "cell_type": "code",
   "execution_count": 1,
   "metadata": {
    "id": "quzFPk86iF0H"
   },
   "outputs": [],
   "source": [
    "import pandas as pd\n",
    "import numpy as np\n",
    "from ast import literal_eval\n",
    "from sklearn.feature_extraction.text import TfidfVectorizer, CountVectorizer\n",
    "from sklearn.metrics.pairwise import linear_kernel, cosine_similarity\n",
    "from nltk.stem.snowball import SnowballStemmer\n",
    "from surprise import Reader, Dataset, SVD, KNNBasic\n",
    "from surprise.model_selection import cross_validate, KFold\n",
    "\n",
    "import warnings; warnings.simplefilter('ignore')"
   ]
  },
  {
   "cell_type": "code",
   "execution_count": 2,
   "metadata": {},
   "outputs": [],
   "source": [
    "data = pd.read_csv('emotionalData.csv')\n",
    "data = data.rename(columns={'tconst': 'imdb_id'})"
   ]
  },
  {
   "cell_type": "code",
   "execution_count": 3,
   "metadata": {},
   "outputs": [],
   "source": [
    "theMovie = pd.read_csv('movies_metadata.csv')"
   ]
  },
  {
   "cell_type": "code",
   "execution_count": 4,
   "metadata": {},
   "outputs": [],
   "source": [
    " merge = pd.merge(data,theMovie, on ='imdb_id')"
   ]
  },
  {
   "cell_type": "code",
   "execution_count": 5,
   "metadata": {},
   "outputs": [],
   "source": [
    "merge.to_csv('mergedData.csv')"
   ]
  },
  {
   "cell_type": "markdown",
   "metadata": {},
   "source": [
    "**ast.literal_eval:** Safely evaluate an expression node or a string containing a Python literal or container display. The string or node provided may only consist of the following Python literal structures: strings, bytes, numbers, tuples, lists, dicts, sets, booleans, None, bytes and sets.\n",
    "\n",
    "**TfidfVectorizer, CountVectorizer:** The TfidfVectorizer will tokenize documents, learn the vocabulary and inverse document frequency weightings, and allow you to encode new documents. ... A vocabulary of 8 words is learned from the documents and each word is assigned a unique integer index in the output vector. \n",
    "\n",
    "The only difference is that the TfidfVectorizer() returns floats while the CountVectorizer() returns ints. And that’s to be expected – as explained in the documentation quoted above, TfidfVectorizer() assigns a score while CountVectorizer() counts.\n",
    "\n",
    "**cosine_similarity** computes the L2-normalized dot product of vectors. That is, if  and  are row vectors, their cosine similarity  is defined as:\n",
    "                                                    K(X, Y) = XY / (||X||*||Y||)\n",
    " \n",
    "This is called cosine similarity, because Euclidean (L2) normalization projects the vectors onto the unit sphere, and their dot product is then the cosine of the angle between the points denoted by the vectors.\n",
    "\n",
    "**Snowball Stemmer:** It is a stemming algorithm which is also known as the Porter2 stemming algorithm as it is a better version of the Porter Stemmer since some issues of it were fixed in this stemmer.\n",
    "\n",
    "input------> output <br>\n",
    "cared ----> care <br>\n",
    "university ----> univers <br>\n",
    "fairly ----> fair <br>\n",
    "easily ----> easili <br>\n",
    "singing ----> sing <br>\n",
    "sings ----> sing <br>\n",
    "sung ----> sung <br>\n",
    "singer ----> singer <br>\n",
    "sportingly ----> sport <br>"
   ]
  },
  {
   "cell_type": "code",
   "execution_count": 6,
   "metadata": {
    "colab": {
     "base_uri": "https://localhost:8080/",
     "height": 311
    },
    "id": "0DvfHyz1qaWS",
    "outputId": "dd258cce-1528-4826-ddac-f0f641255675"
   },
   "outputs": [
    {
     "data": {
      "text/html": [
       "<div>\n",
       "<style scoped>\n",
       "    .dataframe tbody tr th:only-of-type {\n",
       "        vertical-align: middle;\n",
       "    }\n",
       "\n",
       "    .dataframe tbody tr th {\n",
       "        vertical-align: top;\n",
       "    }\n",
       "\n",
       "    .dataframe thead th {\n",
       "        text-align: right;\n",
       "    }\n",
       "</style>\n",
       "<table border=\"1\" class=\"dataframe\">\n",
       "  <thead>\n",
       "    <tr style=\"text-align: right;\">\n",
       "      <th></th>\n",
       "      <th>Unnamed: 0</th>\n",
       "      <th>Unnamed: 0.1</th>\n",
       "      <th>imdb_id</th>\n",
       "      <th>Title</th>\n",
       "      <th>IMDB-rating</th>\n",
       "      <th>NormalisedScore</th>\n",
       "      <th>Year</th>\n",
       "      <th>wordcount</th>\n",
       "      <th>totalemotion</th>\n",
       "      <th>Emotional Expression</th>\n",
       "      <th>...</th>\n",
       "      <th>release_date</th>\n",
       "      <th>revenue</th>\n",
       "      <th>runtime</th>\n",
       "      <th>spoken_languages</th>\n",
       "      <th>status</th>\n",
       "      <th>tagline</th>\n",
       "      <th>title</th>\n",
       "      <th>video</th>\n",
       "      <th>vote_average</th>\n",
       "      <th>vote_count</th>\n",
       "    </tr>\n",
       "  </thead>\n",
       "  <tbody>\n",
       "    <tr>\n",
       "      <th>0</th>\n",
       "      <td>0</td>\n",
       "      <td>1</td>\n",
       "      <td>tt0047478</td>\n",
       "      <td>1954  Seven Samurai</td>\n",
       "      <td>8.6</td>\n",
       "      <td>80.851064</td>\n",
       "      <td>1954</td>\n",
       "      <td>3563.0</td>\n",
       "      <td>1617.0</td>\n",
       "      <td>68.210889</td>\n",
       "      <td>...</td>\n",
       "      <td>1954-04-26</td>\n",
       "      <td>271841.0</td>\n",
       "      <td>207.0</td>\n",
       "      <td>[{'iso_639_1': 'ja', 'name': '日本語'}]</td>\n",
       "      <td>Released</td>\n",
       "      <td>The Mighty Warriors Who Became the Seven Natio...</td>\n",
       "      <td>Seven Samurai</td>\n",
       "      <td>False</td>\n",
       "      <td>8.2</td>\n",
       "      <td>892.0</td>\n",
       "    </tr>\n",
       "    <tr>\n",
       "      <th>1</th>\n",
       "      <td>1</td>\n",
       "      <td>3</td>\n",
       "      <td>tt0062622</td>\n",
       "      <td>2001 A Space Odyssey 1968 REMASTERED 720p Blu...</td>\n",
       "      <td>8.3</td>\n",
       "      <td>74.468085</td>\n",
       "      <td>1968</td>\n",
       "      <td>2153.0</td>\n",
       "      <td>800.0</td>\n",
       "      <td>45.706531</td>\n",
       "      <td>...</td>\n",
       "      <td>1968-04-10</td>\n",
       "      <td>68700000.0</td>\n",
       "      <td>149.0</td>\n",
       "      <td>[{'iso_639_1': 'en', 'name': 'English'}, {'iso...</td>\n",
       "      <td>Released</td>\n",
       "      <td>An epic drama of adventure and exploration</td>\n",
       "      <td>2001: A Space Odyssey</td>\n",
       "      <td>False</td>\n",
       "      <td>7.9</td>\n",
       "      <td>3075.0</td>\n",
       "    </tr>\n",
       "    <tr>\n",
       "      <th>2</th>\n",
       "      <td>2</td>\n",
       "      <td>4</td>\n",
       "      <td>tt1187043</td>\n",
       "      <td>3 Idiots 2009 Hindi 1080p Blu Ray x264 DD 5 1...</td>\n",
       "      <td>8.3</td>\n",
       "      <td>74.468085</td>\n",
       "      <td>2009</td>\n",
       "      <td>6748.0</td>\n",
       "      <td>2981.0</td>\n",
       "      <td>64.908545</td>\n",
       "      <td>...</td>\n",
       "      <td>2009-12-23</td>\n",
       "      <td>70000000.0</td>\n",
       "      <td>170.0</td>\n",
       "      <td>[{'iso_639_1': 'en', 'name': 'English'}, {'iso...</td>\n",
       "      <td>Released</td>\n",
       "      <td>Don't BE A STUPID BE AN I.D.I.O.T.</td>\n",
       "      <td>3 Idiots</td>\n",
       "      <td>False</td>\n",
       "      <td>7.8</td>\n",
       "      <td>850.0</td>\n",
       "    </tr>\n",
       "    <tr>\n",
       "      <th>3</th>\n",
       "      <td>3</td>\n",
       "      <td>5</td>\n",
       "      <td>tt0066921</td>\n",
       "      <td>A Clockwork Orange (1971) 1080p H 264 Multi (...</td>\n",
       "      <td>8.3</td>\n",
       "      <td>74.468085</td>\n",
       "      <td>1971</td>\n",
       "      <td>5070.0</td>\n",
       "      <td>2154.0</td>\n",
       "      <td>60.282602</td>\n",
       "      <td>...</td>\n",
       "      <td>1971-12-18</td>\n",
       "      <td>26589000.0</td>\n",
       "      <td>136.0</td>\n",
       "      <td>[{'iso_639_1': 'en', 'name': 'English'}]</td>\n",
       "      <td>Released</td>\n",
       "      <td>Being the adventures of a young man whose prin...</td>\n",
       "      <td>A Clockwork Orange</td>\n",
       "      <td>False</td>\n",
       "      <td>8.0</td>\n",
       "      <td>3432.0</td>\n",
       "    </tr>\n",
       "    <tr>\n",
       "      <th>4</th>\n",
       "      <td>4</td>\n",
       "      <td>7</td>\n",
       "      <td>tt1360860</td>\n",
       "      <td>About Elly 2009 1080p BluRay Remux AVC FLAC2 ...</td>\n",
       "      <td>8.0</td>\n",
       "      <td>68.085106</td>\n",
       "      <td>2009</td>\n",
       "      <td>3480.0</td>\n",
       "      <td>1307.0</td>\n",
       "      <td>46.800927</td>\n",
       "      <td>...</td>\n",
       "      <td>2009-02-10</td>\n",
       "      <td>0.0</td>\n",
       "      <td>119.0</td>\n",
       "      <td>[{'iso_639_1': 'de', 'name': 'Deutsch'}, {'iso...</td>\n",
       "      <td>Released</td>\n",
       "      <td>NaN</td>\n",
       "      <td>About Elly</td>\n",
       "      <td>False</td>\n",
       "      <td>7.3</td>\n",
       "      <td>98.0</td>\n",
       "    </tr>\n",
       "  </tbody>\n",
       "</table>\n",
       "<p>5 rows × 54 columns</p>\n",
       "</div>"
      ],
      "text/plain": [
       "   Unnamed: 0  Unnamed: 0.1    imdb_id  \\\n",
       "0           0             1  tt0047478   \n",
       "1           1             3  tt0062622   \n",
       "2           2             4  tt1187043   \n",
       "3           3             5  tt0066921   \n",
       "4           4             7  tt1360860   \n",
       "\n",
       "                                               Title  IMDB-rating  \\\n",
       "0                              1954  Seven Samurai            8.6   \n",
       "1   2001 A Space Odyssey 1968 REMASTERED 720p Blu...          8.3   \n",
       "2   3 Idiots 2009 Hindi 1080p Blu Ray x264 DD 5 1...          8.3   \n",
       "3   A Clockwork Orange (1971) 1080p H 264 Multi (...          8.3   \n",
       "4   About Elly 2009 1080p BluRay Remux AVC FLAC2 ...          8.0   \n",
       "\n",
       "   NormalisedScore  Year  wordcount  totalemotion  Emotional Expression  ...  \\\n",
       "0        80.851064  1954     3563.0        1617.0             68.210889  ...   \n",
       "1        74.468085  1968     2153.0         800.0             45.706531  ...   \n",
       "2        74.468085  2009     6748.0        2981.0             64.908545  ...   \n",
       "3        74.468085  1971     5070.0        2154.0             60.282602  ...   \n",
       "4        68.085106  2009     3480.0        1307.0             46.800927  ...   \n",
       "\n",
       "   release_date     revenue  runtime  \\\n",
       "0    1954-04-26    271841.0    207.0   \n",
       "1    1968-04-10  68700000.0    149.0   \n",
       "2    2009-12-23  70000000.0    170.0   \n",
       "3    1971-12-18  26589000.0    136.0   \n",
       "4    2009-02-10         0.0    119.0   \n",
       "\n",
       "                                    spoken_languages    status  \\\n",
       "0               [{'iso_639_1': 'ja', 'name': '日本語'}]  Released   \n",
       "1  [{'iso_639_1': 'en', 'name': 'English'}, {'iso...  Released   \n",
       "2  [{'iso_639_1': 'en', 'name': 'English'}, {'iso...  Released   \n",
       "3           [{'iso_639_1': 'en', 'name': 'English'}]  Released   \n",
       "4  [{'iso_639_1': 'de', 'name': 'Deutsch'}, {'iso...  Released   \n",
       "\n",
       "                                             tagline                  title  \\\n",
       "0  The Mighty Warriors Who Became the Seven Natio...          Seven Samurai   \n",
       "1         An epic drama of adventure and exploration  2001: A Space Odyssey   \n",
       "2                 Don't BE A STUPID BE AN I.D.I.O.T.               3 Idiots   \n",
       "3  Being the adventures of a young man whose prin...     A Clockwork Orange   \n",
       "4                                                NaN             About Elly   \n",
       "\n",
       "   video  vote_average  vote_count  \n",
       "0  False           8.2       892.0  \n",
       "1  False           7.9      3075.0  \n",
       "2  False           7.8       850.0  \n",
       "3  False           8.0      3432.0  \n",
       "4  False           7.3        98.0  \n",
       "\n",
       "[5 rows x 54 columns]"
      ]
     },
     "execution_count": 6,
     "metadata": {},
     "output_type": "execute_result"
    }
   ],
   "source": [
    "md = pd. read_csv('mergedData.csv')\n",
    "md = md.rename(columns={'Score': 'IMDB-rating'})\n",
    "md.head(5)"
   ]
  },
  {
   "cell_type": "code",
   "execution_count": 7,
   "metadata": {},
   "outputs": [],
   "source": [
    "def get_EmotionScore(df):\n",
    "    df1 = df[[\"Agressiveness\", \"Anger\",\"Anticipation\", \"Awe\", \"Contempt\", \"Disgust\", \"Dissaproval\", \"Fear\", \"Joy\", \"Love\", \"Negative\", \"Optimism\", \"Positive\", \"Remorse\", \"Sadness\", \"Submission\", \"Surprise\", \"Trust\", \"AFINN(-4&-5)\", \"Ero\"]]\n",
    "    df1 = df1.astype(int)\n",
    "    df3 = df1.idxmax(axis = 1)\n",
    "    df2 = list(df3)\n",
    "    return df2[0]"
   ]
  },
  {
   "cell_type": "code",
   "execution_count": 8,
   "metadata": {
    "id": "cvpS0F67qlGg"
   },
   "outputs": [],
   "source": [
    "md['genres'] = md['genres'].fillna('[]').apply(literal_eval).apply(lambda x: [i['name'] for i in x] if isinstance(x, list) else [])\n",
    "# to clean unwanted data in genres and keep genres keywords like( qction, drama, comedy)"
   ]
  },
  {
   "cell_type": "markdown",
   "metadata": {},
   "source": [
    "**Weighted Rating (WR) =  (vv+m.R)+(mv+m.C)** <br>\n",
    "where,\n",
    "\n",
    "v is the number of votes for the movie <br>\n",
    "m is the minimum votes required to be listed in the chart <br>\n",
    "R is the average rating of the movie <br>\n",
    "C is the mean vote across the whole report <br>"
   ]
  },
  {
   "cell_type": "code",
   "execution_count": 9,
   "metadata": {
    "id": "eW5hWLwArEaj"
   },
   "outputs": [],
   "source": [
    "def weighted_rating(x):\n",
    "    v = x['vote_count']\n",
    "    R = x['vote_average']\n",
    "    return (v/(v+m) * R) + (m/(m+v) * C)"
   ]
  },
  {
   "cell_type": "code",
   "execution_count": 10,
   "metadata": {},
   "outputs": [],
   "source": [
    "C = md['vote_average'].mean()\n",
    "m = md['vote_count'].quantile(0.85) # I used 85% as cutoff\n",
    "md['weighted_Rating'] = md.apply(weighted_rating, axis=1)\n"
   ]
  },
  {
   "cell_type": "markdown",
   "metadata": {
    "id": "hKHI99arJb9P"
   },
   "source": [
    "# Simple Recommender based on Emotional score"
   ]
  },
  {
   "cell_type": "code",
   "execution_count": 11,
   "metadata": {},
   "outputs": [],
   "source": [
    "def emotionalData_build(emotion):\n",
    "    hh = md.sort_values(by=[emotion], ascending=False)\n",
    "    hh['vote_count'] = md['vote_count'].astype('int')\n",
    "    hh = hh[['title', 'Year', 'IMDB-rating', 'weighted_Rating', 'vote_count', 'vote_average', 'popularity', emotion]]\n",
    "    return hh"
   ]
  },
  {
   "cell_type": "code",
   "execution_count": 12,
   "metadata": {},
   "outputs": [
    {
     "data": {
      "text/html": [
       "<div>\n",
       "<style scoped>\n",
       "    .dataframe tbody tr th:only-of-type {\n",
       "        vertical-align: middle;\n",
       "    }\n",
       "\n",
       "    .dataframe tbody tr th {\n",
       "        vertical-align: top;\n",
       "    }\n",
       "\n",
       "    .dataframe thead th {\n",
       "        text-align: right;\n",
       "    }\n",
       "</style>\n",
       "<table border=\"1\" class=\"dataframe\">\n",
       "  <thead>\n",
       "    <tr style=\"text-align: right;\">\n",
       "      <th></th>\n",
       "      <th>title</th>\n",
       "      <th>Year</th>\n",
       "      <th>IMDB-rating</th>\n",
       "      <th>weighted_Rating</th>\n",
       "      <th>vote_count</th>\n",
       "      <th>vote_average</th>\n",
       "      <th>popularity</th>\n",
       "      <th>Agressiveness</th>\n",
       "    </tr>\n",
       "  </thead>\n",
       "  <tbody>\n",
       "    <tr>\n",
       "      <th>17</th>\n",
       "      <td>City Lights</td>\n",
       "      <td>1931</td>\n",
       "      <td>8.5</td>\n",
       "      <td>7.962115</td>\n",
       "      <td>444</td>\n",
       "      <td>8.2</td>\n",
       "      <td>10.891524</td>\n",
       "      <td>47.370690</td>\n",
       "    </tr>\n",
       "    <tr>\n",
       "      <th>7</th>\n",
       "      <td>Amadeus</td>\n",
       "      <td>1984</td>\n",
       "      <td>8.3</td>\n",
       "      <td>7.923136</td>\n",
       "      <td>1107</td>\n",
       "      <td>7.8</td>\n",
       "      <td>12.677592</td>\n",
       "      <td>40.008172</td>\n",
       "    </tr>\n",
       "    <tr>\n",
       "      <th>56</th>\n",
       "      <td>Scarface</td>\n",
       "      <td>1983</td>\n",
       "      <td>8.2</td>\n",
       "      <td>7.963056</td>\n",
       "      <td>3017</td>\n",
       "      <td>8.0</td>\n",
       "      <td>11.299673</td>\n",
       "      <td>26.732432</td>\n",
       "    </tr>\n",
       "    <tr>\n",
       "      <th>89</th>\n",
       "      <td>The Usual Suspects</td>\n",
       "      <td>1995</td>\n",
       "      <td>8.5</td>\n",
       "      <td>7.999228</td>\n",
       "      <td>3334</td>\n",
       "      <td>8.1</td>\n",
       "      <td>16.302466</td>\n",
       "      <td>26.341695</td>\n",
       "    </tr>\n",
       "    <tr>\n",
       "      <th>88</th>\n",
       "      <td>The Sting</td>\n",
       "      <td>1973</td>\n",
       "      <td>8.2</td>\n",
       "      <td>7.940888</td>\n",
       "      <td>639</td>\n",
       "      <td>7.9</td>\n",
       "      <td>12.016821</td>\n",
       "      <td>26.294434</td>\n",
       "    </tr>\n",
       "  </tbody>\n",
       "</table>\n",
       "</div>"
      ],
      "text/plain": [
       "                 title  Year  IMDB-rating  weighted_Rating  vote_count  \\\n",
       "17         City Lights  1931          8.5         7.962115         444   \n",
       "7              Amadeus  1984          8.3         7.923136        1107   \n",
       "56            Scarface  1983          8.2         7.963056        3017   \n",
       "89  The Usual Suspects  1995          8.5         7.999228        3334   \n",
       "88           The Sting  1973          8.2         7.940888         639   \n",
       "\n",
       "    vote_average  popularity  Agressiveness  \n",
       "17           8.2   10.891524      47.370690  \n",
       "7            7.8   12.677592      40.008172  \n",
       "56           8.0   11.299673      26.732432  \n",
       "89           8.1   16.302466      26.341695  \n",
       "88           7.9   12.016821      26.294434  "
      ]
     },
     "execution_count": 12,
     "metadata": {},
     "output_type": "execute_result"
    }
   ],
   "source": [
    "emotionalData_build('Agressiveness').head(5)"
   ]
  },
  {
   "cell_type": "markdown",
   "metadata": {
    "id": "58OuFpfyKYbG"
   },
   "source": [
    "# Content Based Recommender"
   ]
  },
  {
   "cell_type": "markdown",
   "metadata": {},
   "source": [
    "I will build two Content Based Recommenders based on:\n",
    "\n",
    "- Movie Overviews and Taglines\n",
    "- Movie Cast, Crew, Keywords and Genre"
   ]
  },
  {
   "cell_type": "markdown",
   "metadata": {
    "id": "6Wq3VCqXMgDb"
   },
   "source": [
    " **1. Content Based: Movie Description Based Recommender**\n",
    " \n",
    " Let us first try to build a recommender using movie descriptions and taglines."
   ]
  },
  {
   "cell_type": "code",
   "execution_count": 13,
   "metadata": {},
   "outputs": [],
   "source": [
    "links_small = pd.read_csv('links_small.csv')\n",
    "links_small = links_small[links_small['tmdbId'].notnull()]['tmdbId'].astype('int')"
   ]
  },
  {
   "cell_type": "code",
   "execution_count": 14,
   "metadata": {
    "colab": {
     "base_uri": "https://localhost:8080/"
    },
    "id": "8rR50weDr1W3",
    "outputId": "b34b1bc3-2551-49b8-e175-4d49ab58991f"
   },
   "outputs": [
    {
     "data": {
      "text/plain": [
       "(96, 55)"
      ]
     },
     "execution_count": 14,
     "metadata": {},
     "output_type": "execute_result"
    }
   ],
   "source": [
    "smd = md[md['id'].isin(links_small)]\n",
    "smd.shape"
   ]
  },
  {
   "cell_type": "code",
   "execution_count": 15,
   "metadata": {
    "id": "ZyuO6D-Nr5Ix"
   },
   "outputs": [],
   "source": [
    "smd['tagline'] = smd['tagline'].fillna('')\n",
    "smd['description'] = smd['overview'] + smd['tagline']\n",
    "smd['description'] = smd['description'].fillna('')"
   ]
  },
  {
   "cell_type": "markdown",
   "metadata": {},
   "source": [
    "The TfidfVectorizer will tokenize documents, learn the vocabulary and inverse document frequency weightings, and allow you to encode new documents. ... A vocabulary of 8 words is learned from the documents and each word is assigned a unique integer index in the output vector."
   ]
  },
  {
   "cell_type": "code",
   "execution_count": 16,
   "metadata": {
    "id": "kI4HPksOr_Lz"
   },
   "outputs": [],
   "source": [
    "tf = TfidfVectorizer(analyzer='word',ngram_range=(1, 2),min_df=0, stop_words='english')\n",
    "tfidf_matrix = tf.fit_transform(smd['description'])"
   ]
  },
  {
   "cell_type": "code",
   "execution_count": 17,
   "metadata": {
    "colab": {
     "base_uri": "https://localhost:8080/"
    },
    "id": "HEzgMuzksCVy",
    "outputId": "e4c36b62-f71a-49db-f96d-8a1e66fb87e7"
   },
   "outputs": [
    {
     "data": {
      "text/plain": [
       "(96, 4866)"
      ]
     },
     "execution_count": 17,
     "metadata": {},
     "output_type": "execute_result"
    }
   ],
   "source": [
    "tfidf_matrix.shape\n"
   ]
  },
  {
   "cell_type": "code",
   "execution_count": 18,
   "metadata": {
    "id": "eW04pdRYsFwd"
   },
   "outputs": [],
   "source": [
    "cosine_sim = linear_kernel(tfidf_matrix, tfidf_matrix)\n"
   ]
  },
  {
   "cell_type": "code",
   "execution_count": 19,
   "metadata": {
    "colab": {
     "base_uri": "https://localhost:8080/"
    },
    "id": "10Q6oSxEsHoI",
    "outputId": "1ce7e691-32a8-42d0-8453-b8a606e75e64"
   },
   "outputs": [
    {
     "data": {
      "text/plain": [
       "array([1.        , 0.00805253, 0.        , 0.        , 0.        ,\n",
       "       0.        , 0.01238417, 0.        , 0.        , 0.        ,\n",
       "       0.        , 0.00609925, 0.        , 0.03148928, 0.        ,\n",
       "       0.02409024, 0.        , 0.00885412, 0.        , 0.        ,\n",
       "       0.00903198, 0.        , 0.        , 0.0176804 , 0.        ,\n",
       "       0.        , 0.        , 0.01465997, 0.01249017, 0.        ,\n",
       "       0.00848464, 0.        , 0.        , 0.        , 0.02448305,\n",
       "       0.        , 0.        , 0.        , 0.00673802, 0.00828134,\n",
       "       0.02040472, 0.        , 0.        , 0.        , 0.        ,\n",
       "       0.02240047, 0.        , 0.        , 0.        , 0.00525777,\n",
       "       0.01242957, 0.        , 0.01194161, 0.        , 0.        ,\n",
       "       0.02721096, 0.00654227, 0.        , 0.01978169, 0.        ,\n",
       "       0.        , 0.02214331, 0.        , 0.        , 0.        ,\n",
       "       0.00586742, 0.        , 0.        , 0.        , 0.        ,\n",
       "       0.        , 0.        , 0.        , 0.        , 0.01243162,\n",
       "       0.        , 0.        , 0.01641231, 0.        , 0.        ,\n",
       "       0.        , 0.02593613, 0.        , 0.        , 0.        ,\n",
       "       0.0142914 , 0.        , 0.        , 0.03022255, 0.        ,\n",
       "       0.        , 0.        , 0.00884564, 0.        , 0.        ,\n",
       "       0.        ])"
      ]
     },
     "execution_count": 19,
     "metadata": {},
     "output_type": "execute_result"
    }
   ],
   "source": [
    "cosine_sim[0]\n"
   ]
  },
  {
   "cell_type": "markdown",
   "metadata": {},
   "source": [
    "We now have a pairwise cosine similarity matrix for all the movies in our dataset. The next step is to write a function that returns the 30 most similar movies based on the cosine similarity score."
   ]
  },
  {
   "cell_type": "code",
   "execution_count": 20,
   "metadata": {
    "id": "svrGdNUqsKyN"
   },
   "outputs": [],
   "source": [
    "smd = smd.reset_index()\n",
    "titles = smd['title']\n",
    "indices = pd.Series(smd.index, index=smd['title'])"
   ]
  },
  {
   "cell_type": "code",
   "execution_count": 21,
   "metadata": {
    "id": "-TBHROPjsP6x"
   },
   "outputs": [],
   "source": [
    "def get_recommendations(title):\n",
    "    idx = indices[title]\n",
    "    sim_scores = list(enumerate(cosine_sim[idx]))\n",
    "    sim_scores = sorted(sim_scores, key=lambda x: x[1], reverse=True)\n",
    "    sim_scores = sim_scores[1:31]\n",
    "    movie_indices = [i[0] for i in sim_scores]\n",
    "    return titles.iloc[movie_indices]"
   ]
  },
  {
   "cell_type": "code",
   "execution_count": 22,
   "metadata": {
    "colab": {
     "base_uri": "https://localhost:8080/"
    },
    "id": "mWCrsvDfsTz2",
    "outputId": "8f293698-f56c-480c-fb25-50a51d8a72a1"
   },
   "outputs": [
    {
     "data": {
      "text/plain": [
       "84                  The Matrix\n",
       "45              Paths of Glory\n",
       "26           Full Metal Jacket\n",
       "35          Lawrence of Arabia\n",
       "54            Schindler's List\n",
       "77    The Silence of the Lambs\n",
       "6                       Aliens\n",
       "36      Leon: The Professional\n",
       "52         Saving Private Ryan\n",
       "58               Spirited Away\n",
       "Name: title, dtype: object"
      ]
     },
     "execution_count": 22,
     "metadata": {},
     "output_type": "execute_result"
    }
   ],
   "source": [
    "get_recommendations('Avatar').head(10)\n"
   ]
  },
  {
   "cell_type": "markdown",
   "metadata": {},
   "source": [
    "We see that for The Avatar, our system is able to identify it as a other species movie  and subsequently recommend other movie which has alien, time travel as its top recommendations."
   ]
  },
  {
   "cell_type": "code",
   "execution_count": 23,
   "metadata": {
    "colab": {
     "base_uri": "https://localhost:8080/"
    },
    "id": "Kttasv1dsY1Y",
    "outputId": "6191d71d-748c-4be2-d152-261e5afb171a"
   },
   "outputs": [
    {
     "data": {
      "text/plain": [
       "66                    The Dark Knight Rises\n",
       "78                             The Departed\n",
       "20                         Django Unchained\n",
       "1                     2001: A Space Odyssey\n",
       "19                                 Das Boot\n",
       "92              Witness for the Prosecution\n",
       "37                        Life Is Beautiful\n",
       "2                                  3 Idiots\n",
       "77                 The Silence of the Lambs\n",
       "72    The Lord of the Rings: The Two Towers\n",
       "Name: title, dtype: object"
      ]
     },
     "execution_count": 23,
     "metadata": {},
     "output_type": "execute_result"
    }
   ],
   "source": [
    "get_recommendations('The Dark Knight').head(10)\n"
   ]
  },
  {
   "cell_type": "markdown",
   "metadata": {
    "id": "_iNJHeCuNsLM"
   },
   "source": [
    "**Content based: Metadata Based Recommender**"
   ]
  },
  {
   "cell_type": "markdown",
   "metadata": {},
   "source": [
    "We now have our cast, crew, genres and credits, all in one dataframe. Let us wrangle this a little more using the following intuitions:\n",
    "\n",
    "**Crew:** From the crew, we will only pick the director as our feature since the others don't contribute that much to the feel of the movie. <br>\n",
    "**Cast:** Lesser known actors and minor roles do not really affect people's opinion of a movie. Therefore, we must only select the major characters and their respective actors. Arbitrarily we will choose the top 3 actors that appear in the credits list."
   ]
  },
  {
   "cell_type": "code",
   "execution_count": 24,
   "metadata": {
    "id": "9-DhiBeOsa-I"
   },
   "outputs": [],
   "source": [
    "credits = pd.read_csv('credits.csv')\n",
    "keywords = pd.read_csv('keywords.csv')"
   ]
  },
  {
   "cell_type": "code",
   "execution_count": 25,
   "metadata": {
    "id": "aWpwv5v5swdr"
   },
   "outputs": [],
   "source": [
    "keywords['id'] = keywords['id'].astype('int')\n",
    "credits['id'] = credits['id'].astype('int')\n",
    "md['id'] = md['id'].astype('int')"
   ]
  },
  {
   "cell_type": "code",
   "execution_count": 26,
   "metadata": {
    "colab": {
     "base_uri": "https://localhost:8080/"
    },
    "id": "t4E9ji3ts2NI",
    "outputId": "e4871fc5-62b1-4cdc-f7f2-91c270270281"
   },
   "outputs": [
    {
     "data": {
      "text/plain": [
       "(102, 55)"
      ]
     },
     "execution_count": 26,
     "metadata": {},
     "output_type": "execute_result"
    }
   ],
   "source": [
    "md.shape\n"
   ]
  },
  {
   "cell_type": "code",
   "execution_count": 27,
   "metadata": {
    "id": "stWqxBw9s37a"
   },
   "outputs": [],
   "source": [
    "md = md.merge(credits, on='id')\n",
    "md = md.merge(keywords, on='id')"
   ]
  },
  {
   "cell_type": "code",
   "execution_count": 28,
   "metadata": {},
   "outputs": [],
   "source": [
    "links_small = pd.read_csv('links_small.csv')\n",
    "links_small = links_small[links_small['tmdbId'].notnull()]['tmdbId'].astype('int')"
   ]
  },
  {
   "cell_type": "code",
   "execution_count": 29,
   "metadata": {
    "colab": {
     "base_uri": "https://localhost:8080/"
    },
    "id": "45uZdsVWs89Z",
    "outputId": "fcd3ec84-b3ff-4dcb-be62-8893cd9a8c72"
   },
   "outputs": [
    {
     "data": {
      "text/plain": [
       "(96, 58)"
      ]
     },
     "execution_count": 29,
     "metadata": {},
     "output_type": "execute_result"
    }
   ],
   "source": [
    "smd = md[md['id'].isin(links_small)]\n",
    "smd.shape"
   ]
  },
  {
   "cell_type": "code",
   "execution_count": 30,
   "metadata": {
    "id": "_2D_bXOTs_a5"
   },
   "outputs": [],
   "source": [
    "smd['cast'] = smd['cast'].apply(literal_eval)\n",
    "smd['crew'] = smd['crew'].apply(literal_eval)\n",
    "smd['keywords'] = smd['keywords'].apply(literal_eval)\n",
    "smd['cast_size'] = smd['cast'].apply(lambda x: len(x))\n",
    "smd['crew_size'] = smd['crew'].apply(lambda x: len(x))"
   ]
  },
  {
   "cell_type": "code",
   "execution_count": 31,
   "metadata": {
    "id": "zr24AfNNtGzM"
   },
   "outputs": [],
   "source": [
    "def get_director(x):\n",
    "    for i in x:\n",
    "        if i['job'] == 'Director':\n",
    "            return i['name']\n",
    "    return np.nan"
   ]
  },
  {
   "cell_type": "code",
   "execution_count": 32,
   "metadata": {
    "id": "wZ5NEom5tJ5T"
   },
   "outputs": [],
   "source": [
    "smd['director'] = smd['crew'].apply(get_director)\n"
   ]
  },
  {
   "cell_type": "code",
   "execution_count": 33,
   "metadata": {
    "id": "hcTe05sptQDI"
   },
   "outputs": [],
   "source": [
    "smd['cast'] = smd['cast'].apply(lambda x: [i['name'] for i in x] if isinstance(x, list) else [])\n",
    "smd['cast'] = smd['cast'].apply(lambda x: x[:3] if len(x) >=3 else x)\n"
   ]
  },
  {
   "cell_type": "code",
   "execution_count": 34,
   "metadata": {
    "id": "L1PwPkFUtTSr"
   },
   "outputs": [],
   "source": [
    "smd['keywords'] = smd['keywords'].apply(lambda x: [i['name'] for i in x] if isinstance(x, list) else [])\n"
   ]
  },
  {
   "cell_type": "markdown",
   "metadata": {},
   "source": [
    "I plan on doing is creating a metadata dump for every movie which consists of genres, director, main actors and keywords. I then use a Count Vectorizer to create our count matrix as we did in the Description Recommender. The remaining steps are similar to what we did earlier: we calculate the cosine similarities and return movies that are most similar.\n",
    "\n",
    "These are steps I follow in the preparation of my genres and credits data:\n",
    "\n",
    "- Strip Spaces and Convert to Lowercase from all our features. This way, our engine will not confuse between Johnny Depp and Johnny Galecki.\n",
    "- Mention Director 3 times to give it more weight relative to the entire cast."
   ]
  },
  {
   "cell_type": "code",
   "execution_count": 35,
   "metadata": {
    "id": "bZ121W5qtU2f"
   },
   "outputs": [],
   "source": [
    "smd['cast'] = smd['cast'].apply(lambda x: [str.lower(i.replace(\" \", \"\")) for i in x])\n"
   ]
  },
  {
   "cell_type": "code",
   "execution_count": 36,
   "metadata": {},
   "outputs": [
    {
     "data": {
      "text/plain": [
       "0           [toshirōmifune, takashishimura, yoshioinaba]\n",
       "1           [keirdullea, garylockwood, williamsylvester]\n",
       "2                   [aamirkhan, kareenakapoor, madhavan]\n",
       "3         [malcolmmcdowell, patrickmagee, adriennecorri]\n",
       "4      [golshiftehfarahani, shahabhosseini, taranehal...\n",
       "                             ...                        \n",
       "94            [milesteller, j.k.simmons, melissabenoist]\n",
       "95       [tyronepower, marlenedietrich, charleslaughton]\n",
       "97         [samworthington, zoesaldana, sigourneyweaver]\n",
       "100              [hughgrant, andiemacdowell, jamesfleet]\n",
       "101                                  [davidattenborough]\n",
       "Name: cast, Length: 96, dtype: object"
      ]
     },
     "execution_count": 36,
     "metadata": {},
     "output_type": "execute_result"
    }
   ],
   "source": [
    "smd['cast']"
   ]
  },
  {
   "cell_type": "code",
   "execution_count": 37,
   "metadata": {
    "id": "bXDVZGQVtbgq"
   },
   "outputs": [],
   "source": [
    "smd['director'] = smd['director'].astype('str').apply(lambda x: str.lower(x.replace(\" \", \"\")))\n",
    "smd['director'] = smd['director'].apply(lambda x: [x,x, x])"
   ]
  },
  {
   "cell_type": "markdown",
   "metadata": {},
   "source": [
    "**Keywords** <br>\n",
    "We will do a small amount of pre-processing of our keywords before putting them to any use. As a first step, we calculate the frequenct counts of every keyword that appears in the dataset."
   ]
  },
  {
   "cell_type": "code",
   "execution_count": 38,
   "metadata": {
    "id": "3El7cB_NtdKd"
   },
   "outputs": [],
   "source": [
    "s = smd.apply(lambda x: pd.Series(x['keywords']),axis=1).stack().reset_index(level=1, drop=True)\n",
    "s.name = 'keyword'"
   ]
  },
  {
   "cell_type": "code",
   "execution_count": 39,
   "metadata": {
    "colab": {
     "base_uri": "https://localhost:8080/"
    },
    "id": "lPEXVoAVthK6",
    "outputId": "d714dd44-5ce3-40a7-e837-07f707fe2a12"
   },
   "outputs": [
    {
     "data": {
      "text/plain": [
       "based on novel    11\n",
       "violence           8\n",
       "world war ii       7\n",
       "dystopia           7\n",
       "love               5\n",
       "corruption         5\n",
       "revenge            5\n",
       "nazis              5\n",
       "friends            5\n",
       "friendship         5\n",
       "Name: keyword, dtype: int64"
      ]
     },
     "execution_count": 39,
     "metadata": {},
     "output_type": "execute_result"
    }
   ],
   "source": [
    "s = s.value_counts()\n",
    "s[:10]"
   ]
  },
  {
   "cell_type": "code",
   "execution_count": 40,
   "metadata": {
    "id": "I38fWnNftm2u"
   },
   "outputs": [],
   "source": [
    "s = s[s > 1]\n"
   ]
  },
  {
   "cell_type": "code",
   "execution_count": 41,
   "metadata": {},
   "outputs": [
    {
     "data": {
      "text/plain": [
       "'human'"
      ]
     },
     "execution_count": 41,
     "metadata": {},
     "output_type": "execute_result"
    }
   ],
   "source": [
    "stemmer = SnowballStemmer('english')\n",
    "stemmer.stem('humans')\n",
    "# stemmer convert words like dogs into dog, such that we get keywords count accurately."
   ]
  },
  {
   "cell_type": "code",
   "execution_count": 42,
   "metadata": {
    "id": "Imduw76gtvTy"
   },
   "outputs": [],
   "source": [
    "def filter_keywords(x):\n",
    "    words = []\n",
    "    for i in x:\n",
    "        if i in s:\n",
    "            words.append(i)\n",
    "    return words"
   ]
  },
  {
   "cell_type": "code",
   "execution_count": 43,
   "metadata": {
    "colab": {
     "base_uri": "https://localhost:8080/",
     "height": 337
    },
    "id": "sVJ0sU7gtyvp",
    "outputId": "73acb1e1-f45d-4f14-df9b-455c08c97576"
   },
   "outputs": [],
   "source": [
    "smd['keywords'] = smd['keywords'].apply(filter_keywords)\n",
    "smd['keywords'] = smd['keywords'].apply(lambda x: [stemmer.stem(i) for i in x])\n",
    "smd['keywords'] = smd['keywords'].apply(lambda x: [str.lower(i.replace(\" \", \"\")) for i in x])"
   ]
  },
  {
   "cell_type": "code",
   "execution_count": 44,
   "metadata": {},
   "outputs": [
    {
     "data": {
      "text/plain": [
       "0                 [japan, peasant, moralambigu, battl]\n",
       "1    [artificialintellig, manvsmachin, spacetravel,...\n",
       "Name: keywords, dtype: object"
      ]
     },
     "execution_count": 44,
     "metadata": {},
     "output_type": "execute_result"
    }
   ],
   "source": [
    "smd['keywords'].head(2)"
   ]
  },
  {
   "cell_type": "code",
   "execution_count": 45,
   "metadata": {
    "id": "XexOq6pbt2nM"
   },
   "outputs": [],
   "source": [
    "smd['soup'] = smd['keywords'] + smd['cast'] + smd['director'] + smd['genres']\n",
    "smd['soup'] = smd['soup'].apply(lambda x: ' '.join(x))"
   ]
  },
  {
   "cell_type": "code",
   "execution_count": 46,
   "metadata": {},
   "outputs": [
    {
     "data": {
      "text/plain": [
       "0    japan peasant moralambigu battl toshirōmifune ...\n",
       "1    artificialintellig manvsmachin spacetravel ast...\n",
       "Name: soup, dtype: object"
      ]
     },
     "execution_count": 46,
     "metadata": {},
     "output_type": "execute_result"
    }
   ],
   "source": [
    "smd['soup'].head(2)"
   ]
  },
  {
   "cell_type": "code",
   "execution_count": 47,
   "metadata": {
    "id": "2kyuJBHjt5tp"
   },
   "outputs": [],
   "source": [
    "count = CountVectorizer(analyzer='word',ngram_range=(1, 2),min_df=0, stop_words='english')\n",
    "count_matrix = count.fit_transform(smd['soup'])"
   ]
  },
  {
   "cell_type": "code",
   "execution_count": 48,
   "metadata": {
    "id": "LkTn8vQut-jo"
   },
   "outputs": [],
   "source": [
    "cosine_sim = cosine_similarity(count_matrix, count_matrix)\n"
   ]
  },
  {
   "cell_type": "code",
   "execution_count": 49,
   "metadata": {
    "id": "5lKjXiA2uAoz"
   },
   "outputs": [],
   "source": [
    "smd = smd.reset_index()\n",
    "titles = smd['title']\n",
    "indices = pd.Series(smd.index, index=smd['title'])"
   ]
  },
  {
   "cell_type": "code",
   "execution_count": 50,
   "metadata": {
    "id": "okE3NlMguFAh"
   },
   "outputs": [
    {
     "data": {
      "text/plain": [
       "6                                        Aliens\n",
       "64                   Terminator 2: Judgment Day\n",
       "87                                      Titanic\n",
       "5                                         Alien\n",
       "60                      The Empire Strikes Back\n",
       "59    Star Wars: Episode I - The Phantom Menace\n",
       "1                         2001: A Space Odyssey\n",
       "32                                 Interstellar\n",
       "61                           Return of the Jedi\n",
       "3                            A Clockwork Orange\n",
       "Name: title, dtype: object"
      ]
     },
     "execution_count": 50,
     "metadata": {},
     "output_type": "execute_result"
    }
   ],
   "source": [
    "get_recommendations('Avatar').head(10)"
   ]
  },
  {
   "cell_type": "code",
   "execution_count": 51,
   "metadata": {
    "id": "YG9BTaxsuIM5"
   },
   "outputs": [
    {
     "data": {
      "text/plain": [
       "66       The Dark Knight Rises\n",
       "74                The Prestige\n",
       "38                     Memento\n",
       "32                Interstellar\n",
       "86          The Usual Suspects\n",
       "53                    Scarface\n",
       "51              Reservoir Dogs\n",
       "77    The Silence of the Lambs\n",
       "63                 Taxi Driver\n",
       "78                The Departed\n",
       "Name: title, dtype: object"
      ]
     },
     "execution_count": 51,
     "metadata": {},
     "output_type": "execute_result"
    }
   ],
   "source": [
    "get_recommendations('The Dark Knight').head(10)\n"
   ]
  },
  {
   "cell_type": "markdown",
   "metadata": {},
   "source": [
    "If we compair our resent results with our another recommended system(Movie Overviews and Taglines), The results are lot different.This one have lot more similar movies"
   ]
  },
  {
   "cell_type": "markdown",
   "metadata": {
    "id": "aUAbRtRUQfTH"
   },
   "source": [
    "# Collaborative Filtering\n",
    "- using K-nearest neighbours\n",
    "- using singular-Value Decomposition"
   ]
  },
  {
   "cell_type": "code",
   "execution_count": 52,
   "metadata": {
    "id": "OLa7wb8FzsKF"
   },
   "outputs": [],
   "source": [
    "reader = Reader()"
   ]
  },
  {
   "cell_type": "code",
   "execution_count": 53,
   "metadata": {
    "id": "GY5MxNvsuhhJ"
   },
   "outputs": [
    {
     "data": {
      "text/html": [
       "<div>\n",
       "<style scoped>\n",
       "    .dataframe tbody tr th:only-of-type {\n",
       "        vertical-align: middle;\n",
       "    }\n",
       "\n",
       "    .dataframe tbody tr th {\n",
       "        vertical-align: top;\n",
       "    }\n",
       "\n",
       "    .dataframe thead th {\n",
       "        text-align: right;\n",
       "    }\n",
       "</style>\n",
       "<table border=\"1\" class=\"dataframe\">\n",
       "  <thead>\n",
       "    <tr style=\"text-align: right;\">\n",
       "      <th></th>\n",
       "      <th>userId</th>\n",
       "      <th>movieId</th>\n",
       "      <th>rating</th>\n",
       "      <th>timestamp</th>\n",
       "    </tr>\n",
       "  </thead>\n",
       "  <tbody>\n",
       "    <tr>\n",
       "      <th>0</th>\n",
       "      <td>1</td>\n",
       "      <td>31</td>\n",
       "      <td>2.5</td>\n",
       "      <td>1260759144</td>\n",
       "    </tr>\n",
       "    <tr>\n",
       "      <th>1</th>\n",
       "      <td>1</td>\n",
       "      <td>1029</td>\n",
       "      <td>3.0</td>\n",
       "      <td>1260759179</td>\n",
       "    </tr>\n",
       "    <tr>\n",
       "      <th>2</th>\n",
       "      <td>1</td>\n",
       "      <td>1061</td>\n",
       "      <td>3.0</td>\n",
       "      <td>1260759182</td>\n",
       "    </tr>\n",
       "    <tr>\n",
       "      <th>3</th>\n",
       "      <td>1</td>\n",
       "      <td>1129</td>\n",
       "      <td>2.0</td>\n",
       "      <td>1260759185</td>\n",
       "    </tr>\n",
       "    <tr>\n",
       "      <th>4</th>\n",
       "      <td>1</td>\n",
       "      <td>1172</td>\n",
       "      <td>4.0</td>\n",
       "      <td>1260759205</td>\n",
       "    </tr>\n",
       "  </tbody>\n",
       "</table>\n",
       "</div>"
      ],
      "text/plain": [
       "   userId  movieId  rating   timestamp\n",
       "0       1       31     2.5  1260759144\n",
       "1       1     1029     3.0  1260759179\n",
       "2       1     1061     3.0  1260759182\n",
       "3       1     1129     2.0  1260759185\n",
       "4       1     1172     4.0  1260759205"
      ]
     },
     "execution_count": 53,
     "metadata": {},
     "output_type": "execute_result"
    }
   ],
   "source": [
    "ratings = pd.read_csv('ratings_small.csv')\n",
    "ratings.head()\n"
   ]
  },
  {
   "cell_type": "code",
   "execution_count": 54,
   "metadata": {
    "id": "r9BkGSW4x-Au"
   },
   "outputs": [
    {
     "data": {
      "text/plain": [
       "<generator object KFold.split at 0x000001A05644D190>"
      ]
     },
     "execution_count": 54,
     "metadata": {},
     "output_type": "execute_result"
    }
   ],
   "source": [
    "data = Dataset.load_from_df(ratings[['userId', 'movieId', 'rating']], reader)\n",
    "kf = KFold(n_splits=5)\n",
    "kf.split(data)"
   ]
  },
  {
   "cell_type": "markdown",
   "metadata": {},
   "source": [
    "**Using K-nearest neighbor (KNNBasic)**"
   ]
  },
  {
   "cell_type": "code",
   "execution_count": 55,
   "metadata": {},
   "outputs": [
    {
     "name": "stdout",
     "output_type": "stream",
     "text": [
      "Computing the msd similarity matrix...\n",
      "Done computing similarity matrix.\n",
      "Computing the msd similarity matrix...\n",
      "Done computing similarity matrix.\n",
      "Computing the msd similarity matrix...\n",
      "Done computing similarity matrix.\n",
      "Computing the msd similarity matrix...\n",
      "Done computing similarity matrix.\n",
      "Computing the msd similarity matrix...\n",
      "Done computing similarity matrix.\n",
      "Evaluating RMSE, MAE of algorithm KNNBasic on 5 split(s).\n",
      "\n",
      "                  Fold 1  Fold 2  Fold 3  Fold 4  Fold 5  Mean    Std     \n",
      "RMSE (testset)    0.9585  0.9624  0.9696  0.9684  0.9734  0.9665  0.0053  \n",
      "MAE (testset)     0.7372  0.7399  0.7473  0.7425  0.7475  0.7429  0.0041  \n",
      "Fit time          0.19    0.52    0.52    0.53    0.51    0.45    0.13    \n",
      "Test time         1.71    4.20    4.45    4.31    4.32    3.80    1.05    \n"
     ]
    },
    {
     "data": {
      "text/plain": [
       "{'test_rmse': array([0.95854337, 0.96238106, 0.96960783, 0.96839379, 0.97335441]),\n",
       " 'test_mae': array([0.7371735 , 0.73994904, 0.74730864, 0.74245913, 0.74751347]),\n",
       " 'fit_time': (0.18525147438049316,\n",
       "  0.5172545909881592,\n",
       "  0.5154478549957275,\n",
       "  0.5340359210968018,\n",
       "  0.51409912109375),\n",
       " 'test_time': (1.70637845993042,\n",
       "  4.201348304748535,\n",
       "  4.445612668991089,\n",
       "  4.307009696960449,\n",
       "  4.323373556137085)}"
      ]
     },
     "execution_count": 55,
     "metadata": {},
     "output_type": "execute_result"
    }
   ],
   "source": [
    "# We'll use the k-nearest neighbor algorithm.\n",
    "knn = KNNBasic()\n",
    "# Run 5-fold cross-validation and print results\n",
    "cross_validate(knn, data, measures=['RMSE', 'MAE'], cv=5, verbose=True)"
   ]
  },
  {
   "cell_type": "code",
   "execution_count": 56,
   "metadata": {},
   "outputs": [
    {
     "name": "stdout",
     "output_type": "stream",
     "text": [
      "Computing the msd similarity matrix...\n",
      "Done computing similarity matrix.\n"
     ]
    },
    {
     "data": {
      "text/plain": [
       "<surprise.prediction_algorithms.knns.KNNBasic at 0x1a058e4f280>"
      ]
     },
     "execution_count": 56,
     "metadata": {},
     "output_type": "execute_result"
    }
   ],
   "source": [
    "trainset = data.build_full_trainset()\n",
    "knn.fit(trainset)"
   ]
  },
  {
   "cell_type": "code",
   "execution_count": 57,
   "metadata": {},
   "outputs": [
    {
     "data": {
      "text/html": [
       "<div>\n",
       "<style scoped>\n",
       "    .dataframe tbody tr th:only-of-type {\n",
       "        vertical-align: middle;\n",
       "    }\n",
       "\n",
       "    .dataframe tbody tr th {\n",
       "        vertical-align: top;\n",
       "    }\n",
       "\n",
       "    .dataframe thead th {\n",
       "        text-align: right;\n",
       "    }\n",
       "</style>\n",
       "<table border=\"1\" class=\"dataframe\">\n",
       "  <thead>\n",
       "    <tr style=\"text-align: right;\">\n",
       "      <th></th>\n",
       "      <th>userId</th>\n",
       "      <th>movieId</th>\n",
       "      <th>rating</th>\n",
       "      <th>timestamp</th>\n",
       "    </tr>\n",
       "  </thead>\n",
       "  <tbody>\n",
       "    <tr>\n",
       "      <th>0</th>\n",
       "      <td>1</td>\n",
       "      <td>31</td>\n",
       "      <td>2.5</td>\n",
       "      <td>1260759144</td>\n",
       "    </tr>\n",
       "    <tr>\n",
       "      <th>1</th>\n",
       "      <td>1</td>\n",
       "      <td>1029</td>\n",
       "      <td>3.0</td>\n",
       "      <td>1260759179</td>\n",
       "    </tr>\n",
       "    <tr>\n",
       "      <th>2</th>\n",
       "      <td>1</td>\n",
       "      <td>1061</td>\n",
       "      <td>3.0</td>\n",
       "      <td>1260759182</td>\n",
       "    </tr>\n",
       "    <tr>\n",
       "      <th>3</th>\n",
       "      <td>1</td>\n",
       "      <td>1129</td>\n",
       "      <td>2.0</td>\n",
       "      <td>1260759185</td>\n",
       "    </tr>\n",
       "    <tr>\n",
       "      <th>4</th>\n",
       "      <td>1</td>\n",
       "      <td>1172</td>\n",
       "      <td>4.0</td>\n",
       "      <td>1260759205</td>\n",
       "    </tr>\n",
       "    <tr>\n",
       "      <th>5</th>\n",
       "      <td>1</td>\n",
       "      <td>1263</td>\n",
       "      <td>2.0</td>\n",
       "      <td>1260759151</td>\n",
       "    </tr>\n",
       "    <tr>\n",
       "      <th>6</th>\n",
       "      <td>1</td>\n",
       "      <td>1287</td>\n",
       "      <td>2.0</td>\n",
       "      <td>1260759187</td>\n",
       "    </tr>\n",
       "    <tr>\n",
       "      <th>7</th>\n",
       "      <td>1</td>\n",
       "      <td>1293</td>\n",
       "      <td>2.0</td>\n",
       "      <td>1260759148</td>\n",
       "    </tr>\n",
       "    <tr>\n",
       "      <th>8</th>\n",
       "      <td>1</td>\n",
       "      <td>1339</td>\n",
       "      <td>3.5</td>\n",
       "      <td>1260759125</td>\n",
       "    </tr>\n",
       "    <tr>\n",
       "      <th>9</th>\n",
       "      <td>1</td>\n",
       "      <td>1343</td>\n",
       "      <td>2.0</td>\n",
       "      <td>1260759131</td>\n",
       "    </tr>\n",
       "    <tr>\n",
       "      <th>10</th>\n",
       "      <td>1</td>\n",
       "      <td>1371</td>\n",
       "      <td>2.5</td>\n",
       "      <td>1260759135</td>\n",
       "    </tr>\n",
       "    <tr>\n",
       "      <th>11</th>\n",
       "      <td>1</td>\n",
       "      <td>1405</td>\n",
       "      <td>1.0</td>\n",
       "      <td>1260759203</td>\n",
       "    </tr>\n",
       "    <tr>\n",
       "      <th>12</th>\n",
       "      <td>1</td>\n",
       "      <td>1953</td>\n",
       "      <td>4.0</td>\n",
       "      <td>1260759191</td>\n",
       "    </tr>\n",
       "    <tr>\n",
       "      <th>13</th>\n",
       "      <td>1</td>\n",
       "      <td>2105</td>\n",
       "      <td>4.0</td>\n",
       "      <td>1260759139</td>\n",
       "    </tr>\n",
       "    <tr>\n",
       "      <th>14</th>\n",
       "      <td>1</td>\n",
       "      <td>2150</td>\n",
       "      <td>3.0</td>\n",
       "      <td>1260759194</td>\n",
       "    </tr>\n",
       "    <tr>\n",
       "      <th>15</th>\n",
       "      <td>1</td>\n",
       "      <td>2193</td>\n",
       "      <td>2.0</td>\n",
       "      <td>1260759198</td>\n",
       "    </tr>\n",
       "    <tr>\n",
       "      <th>16</th>\n",
       "      <td>1</td>\n",
       "      <td>2294</td>\n",
       "      <td>2.0</td>\n",
       "      <td>1260759108</td>\n",
       "    </tr>\n",
       "    <tr>\n",
       "      <th>17</th>\n",
       "      <td>1</td>\n",
       "      <td>2455</td>\n",
       "      <td>2.5</td>\n",
       "      <td>1260759113</td>\n",
       "    </tr>\n",
       "    <tr>\n",
       "      <th>18</th>\n",
       "      <td>1</td>\n",
       "      <td>2968</td>\n",
       "      <td>1.0</td>\n",
       "      <td>1260759200</td>\n",
       "    </tr>\n",
       "    <tr>\n",
       "      <th>19</th>\n",
       "      <td>1</td>\n",
       "      <td>3671</td>\n",
       "      <td>3.0</td>\n",
       "      <td>1260759117</td>\n",
       "    </tr>\n",
       "  </tbody>\n",
       "</table>\n",
       "</div>"
      ],
      "text/plain": [
       "    userId  movieId  rating   timestamp\n",
       "0        1       31     2.5  1260759144\n",
       "1        1     1029     3.0  1260759179\n",
       "2        1     1061     3.0  1260759182\n",
       "3        1     1129     2.0  1260759185\n",
       "4        1     1172     4.0  1260759205\n",
       "5        1     1263     2.0  1260759151\n",
       "6        1     1287     2.0  1260759187\n",
       "7        1     1293     2.0  1260759148\n",
       "8        1     1339     3.5  1260759125\n",
       "9        1     1343     2.0  1260759131\n",
       "10       1     1371     2.5  1260759135\n",
       "11       1     1405     1.0  1260759203\n",
       "12       1     1953     4.0  1260759191\n",
       "13       1     2105     4.0  1260759139\n",
       "14       1     2150     3.0  1260759194\n",
       "15       1     2193     2.0  1260759198\n",
       "16       1     2294     2.0  1260759108\n",
       "17       1     2455     2.5  1260759113\n",
       "18       1     2968     1.0  1260759200\n",
       "19       1     3671     3.0  1260759117"
      ]
     },
     "execution_count": 57,
     "metadata": {},
     "output_type": "execute_result"
    }
   ],
   "source": [
    "ratings[ratings['userId'] == 1]"
   ]
  },
  {
   "cell_type": "markdown",
   "metadata": {},
   "source": [
    "**Root Mean Sqaure Error** using KNNBasic is  0.9681"
   ]
  },
  {
   "cell_type": "code",
   "execution_count": 58,
   "metadata": {},
   "outputs": [
    {
     "data": {
      "text/plain": [
       "Prediction(uid=1, iid=2, r_ui=3, est=3.2584390074346286, details={'actual_k': 40, 'was_impossible': False})"
      ]
     },
     "execution_count": 58,
     "metadata": {},
     "output_type": "execute_result"
    }
   ],
   "source": [
    "knn.predict(1, 2, 3)"
   ]
  },
  {
   "cell_type": "markdown",
   "metadata": {},
   "source": [
    "For movie with ID **2**, we get an estimated prediction of **3.2584** by user **1**"
   ]
  },
  {
   "cell_type": "code",
   "execution_count": 59,
   "metadata": {},
   "outputs": [
    {
     "data": {
      "text/plain": [
       "Prediction(uid=2, iid=2, r_ui=3, est=3.3101434365546045, details={'actual_k': 40, 'was_impossible': False})"
      ]
     },
     "execution_count": 59,
     "metadata": {},
     "output_type": "execute_result"
    }
   ],
   "source": [
    "knn.predict(2, 2, 3)"
   ]
  },
  {
   "cell_type": "markdown",
   "metadata": {},
   "source": [
    "For **same movie**, we get an estimated prediction of **3.31014** by user **2**"
   ]
  },
  {
   "cell_type": "markdown",
   "metadata": {},
   "source": [
    "**Using singular-Value Decomposition(SVD)**"
   ]
  },
  {
   "cell_type": "code",
   "execution_count": 60,
   "metadata": {
    "id": "pRgkeCSCz2nk"
   },
   "outputs": [
    {
     "name": "stdout",
     "output_type": "stream",
     "text": [
      "Evaluating RMSE, MAE of algorithm SVD on 5 split(s).\n",
      "\n",
      "                  Fold 1  Fold 2  Fold 3  Fold 4  Fold 5  Mean    Std     \n",
      "RMSE (testset)    0.8914  0.8925  0.9005  0.8999  0.9029  0.8974  0.0046  \n",
      "MAE (testset)     0.6838  0.6866  0.6920  0.6942  0.6968  0.6907  0.0048  \n",
      "Fit time          16.28   15.44   16.25   15.26   16.01   15.85   0.42    \n",
      "Test time         0.40    0.49    0.37    0.51    0.38    0.43    0.06    \n"
     ]
    },
    {
     "data": {
      "text/plain": [
       "{'test_rmse': array([0.89138738, 0.89253021, 0.90054564, 0.89987824, 0.90287449]),\n",
       " 'test_mae': array([0.68377244, 0.68663138, 0.69201596, 0.6942273 , 0.6967859 ]),\n",
       " 'fit_time': (16.282403469085693,\n",
       "  15.441909313201904,\n",
       "  16.250487327575684,\n",
       "  15.255274057388306,\n",
       "  16.0091872215271),\n",
       " 'test_time': (0.397996187210083,\n",
       "  0.4933156967163086,\n",
       "  0.37157559394836426,\n",
       "  0.510810136795044,\n",
       "  0.37914419174194336)}"
      ]
     },
     "execution_count": 60,
     "metadata": {},
     "output_type": "execute_result"
    }
   ],
   "source": [
    "# We'll use the famous SVD algorithm.\n",
    "svd = SVD()\n",
    "# Run 5-fold cross-validation and print results\n",
    "cross_validate(svd, data, measures=['RMSE', 'MAE'], cv=5, verbose=True)"
   ]
  },
  {
   "cell_type": "markdown",
   "metadata": {},
   "source": [
    "**Root Mean Sqaure Error** using SVD is  0.8964"
   ]
  },
  {
   "cell_type": "code",
   "execution_count": 61,
   "metadata": {},
   "outputs": [
    {
     "data": {
      "text/plain": [
       "<surprise.prediction_algorithms.matrix_factorization.SVD at 0x1a058821640>"
      ]
     },
     "execution_count": 61,
     "metadata": {},
     "output_type": "execute_result"
    }
   ],
   "source": [
    "trainset = data.build_full_trainset()\n",
    "svd.fit(trainset)"
   ]
  },
  {
   "cell_type": "code",
   "execution_count": 62,
   "metadata": {
    "id": "X2otcY3u0HzC"
   },
   "outputs": [
    {
     "data": {
      "text/plain": [
       "Prediction(uid=1, iid=2, r_ui=3, est=2.57727381324865, details={'was_impossible': False})"
      ]
     },
     "execution_count": 62,
     "metadata": {},
     "output_type": "execute_result"
    }
   ],
   "source": [
    "svd.predict(1, 2, 3)"
   ]
  },
  {
   "cell_type": "markdown",
   "metadata": {},
   "source": [
    "For movie with ID **2**, we get an estimated prediction of **2.794324** by user **1**"
   ]
  },
  {
   "cell_type": "code",
   "execution_count": 63,
   "metadata": {},
   "outputs": [
    {
     "data": {
      "text/plain": [
       "Prediction(uid=2, iid=2, r_ui=3, est=3.233694236120992, details={'was_impossible': False})"
      ]
     },
     "execution_count": 63,
     "metadata": {},
     "output_type": "execute_result"
    }
   ],
   "source": [
    "svd.predict(2, 2, 3)"
   ]
  },
  {
   "cell_type": "markdown",
   "metadata": {},
   "source": [
    "For **same movie**, we get an estimated prediction of **3.44728** by user **2**"
   ]
  },
  {
   "cell_type": "markdown",
   "metadata": {
    "id": "FIV9Uze3Ru6r"
   },
   "source": [
    "# Hybrid Recommender"
   ]
  },
  {
   "cell_type": "code",
   "execution_count": 64,
   "metadata": {
    "id": "PYLEhulL0Jax"
   },
   "outputs": [],
   "source": [
    "def convert_int(x):\n",
    "    try:\n",
    "        return int(x)\n",
    "    except:\n",
    "        return np.nan"
   ]
  },
  {
   "cell_type": "code",
   "execution_count": 65,
   "metadata": {
    "id": "4GZc1TsQ0P58"
   },
   "outputs": [],
   "source": [
    "id_map = pd.read_csv('links_small.csv')[['movieId', 'tmdbId']]\n",
    "id_map['tmdbId'] = id_map['tmdbId'].apply(convert_int)\n",
    "id_map.columns = ['movieId', 'id']\n",
    "id_map = id_map.merge(smd[['title', 'id']], on='id').set_index('title')"
   ]
  },
  {
   "cell_type": "code",
   "execution_count": 66,
   "metadata": {
    "id": "ycZJVb6e0ZbG"
   },
   "outputs": [],
   "source": [
    "indices_map = id_map.set_index('id')\n"
   ]
  },
  {
   "cell_type": "code",
   "execution_count": 67,
   "metadata": {
    "id": "njgEfvMN0avN"
   },
   "outputs": [],
   "source": [
    "def hybrid(userId, title):\n",
    "    idx = indices[title]\n",
    "    tmdbId = id_map.loc[title]['id']\n",
    "    #print(idx)\n",
    "    movie_id = id_map.loc[title]['movieId']\n",
    "    \n",
    "    sim_scores = list(enumerate(cosine_sim[int(idx)]))\n",
    "    sim_scores = sorted(sim_scores, key=lambda x: x[1], reverse=True)\n",
    "    sim_scores = sim_scores[1:26]\n",
    "    movie_indices = [i[0] for i in sim_scores]\n",
    "    emotion = get_EmotionScore(md.loc[md['title']== title])\n",
    "    movies = smd.iloc[movie_indices][['title', 'vote_count', 'vote_average', 'Year', 'id', emotion]]\n",
    "    movies['est'] = movies['id'].apply(lambda x: svd.predict(userId, indices_map.loc[x]['movieId']).est)\n",
    "    movies = movies.sort_values('est', ascending=False)\n",
    "    return movies.head(5)"
   ]
  },
  {
   "cell_type": "code",
   "execution_count": 68,
   "metadata": {
    "id": "NSjhpFfI0g6n"
   },
   "outputs": [
    {
     "data": {
      "text/html": [
       "<div>\n",
       "<style scoped>\n",
       "    .dataframe tbody tr th:only-of-type {\n",
       "        vertical-align: middle;\n",
       "    }\n",
       "\n",
       "    .dataframe tbody tr th {\n",
       "        vertical-align: top;\n",
       "    }\n",
       "\n",
       "    .dataframe thead th {\n",
       "        text-align: right;\n",
       "    }\n",
       "</style>\n",
       "<table border=\"1\" class=\"dataframe\">\n",
       "  <thead>\n",
       "    <tr style=\"text-align: right;\">\n",
       "      <th></th>\n",
       "      <th>title</th>\n",
       "      <th>vote_count</th>\n",
       "      <th>vote_average</th>\n",
       "      <th>Year</th>\n",
       "      <th>id</th>\n",
       "      <th>Trust</th>\n",
       "      <th>est</th>\n",
       "    </tr>\n",
       "  </thead>\n",
       "  <tbody>\n",
       "    <tr>\n",
       "      <th>76</th>\n",
       "      <td>The Shawshank Redemption</td>\n",
       "      <td>8358.0</td>\n",
       "      <td>8.5</td>\n",
       "      <td>1994</td>\n",
       "      <td>278</td>\n",
       "      <td>41.551177</td>\n",
       "      <td>3.704070</td>\n",
       "    </tr>\n",
       "    <tr>\n",
       "      <th>86</th>\n",
       "      <td>The Usual Suspects</td>\n",
       "      <td>3334.0</td>\n",
       "      <td>8.1</td>\n",
       "      <td>1995</td>\n",
       "      <td>629</td>\n",
       "      <td>38.776227</td>\n",
       "      <td>3.597704</td>\n",
       "    </tr>\n",
       "    <tr>\n",
       "      <th>67</th>\n",
       "      <td>The Godfather</td>\n",
       "      <td>6024.0</td>\n",
       "      <td>8.5</td>\n",
       "      <td>1972</td>\n",
       "      <td>238</td>\n",
       "      <td>60.690334</td>\n",
       "      <td>3.570446</td>\n",
       "    </tr>\n",
       "    <tr>\n",
       "      <th>49</th>\n",
       "      <td>Rear Window</td>\n",
       "      <td>1531.0</td>\n",
       "      <td>8.2</td>\n",
       "      <td>1954</td>\n",
       "      <td>567</td>\n",
       "      <td>27.561833</td>\n",
       "      <td>3.505309</td>\n",
       "    </tr>\n",
       "    <tr>\n",
       "      <th>29</th>\n",
       "      <td>GoodFellas</td>\n",
       "      <td>3211.0</td>\n",
       "      <td>8.2</td>\n",
       "      <td>1990</td>\n",
       "      <td>769</td>\n",
       "      <td>39.990811</td>\n",
       "      <td>3.435524</td>\n",
       "    </tr>\n",
       "  </tbody>\n",
       "</table>\n",
       "</div>"
      ],
      "text/plain": [
       "                       title  vote_count  vote_average  Year   id      Trust  \\\n",
       "76  The Shawshank Redemption      8358.0           8.5  1994  278  41.551177   \n",
       "86        The Usual Suspects      3334.0           8.1  1995  629  38.776227   \n",
       "67             The Godfather      6024.0           8.5  1972  238  60.690334   \n",
       "49               Rear Window      1531.0           8.2  1954  567  27.561833   \n",
       "29                GoodFellas      3211.0           8.2  1990  769  39.990811   \n",
       "\n",
       "         est  \n",
       "76  3.704070  \n",
       "86  3.597704  \n",
       "67  3.570446  \n",
       "49  3.505309  \n",
       "29  3.435524  "
      ]
     },
     "execution_count": 68,
     "metadata": {},
     "output_type": "execute_result"
    }
   ],
   "source": [
    "hybrid(1, 'The Dark Knight')\n"
   ]
  },
  {
   "cell_type": "markdown",
   "metadata": {},
   "source": [
    "In the above output we can see we can see recommandations for user **1** for Avatar movie and **est** is **predicted ratings** using **collabarative filter**"
   ]
  },
  {
   "cell_type": "code",
   "execution_count": 69,
   "metadata": {
    "id": "OVOx8T5k0p5L"
   },
   "outputs": [
    {
     "data": {
      "text/html": [
       "<div>\n",
       "<style scoped>\n",
       "    .dataframe tbody tr th:only-of-type {\n",
       "        vertical-align: middle;\n",
       "    }\n",
       "\n",
       "    .dataframe tbody tr th {\n",
       "        vertical-align: top;\n",
       "    }\n",
       "\n",
       "    .dataframe thead th {\n",
       "        text-align: right;\n",
       "    }\n",
       "</style>\n",
       "<table border=\"1\" class=\"dataframe\">\n",
       "  <thead>\n",
       "    <tr style=\"text-align: right;\">\n",
       "      <th></th>\n",
       "      <th>title</th>\n",
       "      <th>vote_count</th>\n",
       "      <th>vote_average</th>\n",
       "      <th>Year</th>\n",
       "      <th>id</th>\n",
       "      <th>Trust</th>\n",
       "      <th>est</th>\n",
       "    </tr>\n",
       "  </thead>\n",
       "  <tbody>\n",
       "    <tr>\n",
       "      <th>76</th>\n",
       "      <td>The Shawshank Redemption</td>\n",
       "      <td>8358.0</td>\n",
       "      <td>8.5</td>\n",
       "      <td>1994</td>\n",
       "      <td>278</td>\n",
       "      <td>41.551177</td>\n",
       "      <td>4.444154</td>\n",
       "    </tr>\n",
       "    <tr>\n",
       "      <th>67</th>\n",
       "      <td>The Godfather</td>\n",
       "      <td>6024.0</td>\n",
       "      <td>8.5</td>\n",
       "      <td>1972</td>\n",
       "      <td>238</td>\n",
       "      <td>60.690334</td>\n",
       "      <td>4.389689</td>\n",
       "    </tr>\n",
       "    <tr>\n",
       "      <th>88</th>\n",
       "      <td>To Kill a Mockingbird</td>\n",
       "      <td>676.0</td>\n",
       "      <td>7.9</td>\n",
       "      <td>1962</td>\n",
       "      <td>595</td>\n",
       "      <td>54.418776</td>\n",
       "      <td>4.234950</td>\n",
       "    </tr>\n",
       "    <tr>\n",
       "      <th>51</th>\n",
       "      <td>Reservoir Dogs</td>\n",
       "      <td>3821.0</td>\n",
       "      <td>8.1</td>\n",
       "      <td>1992</td>\n",
       "      <td>500</td>\n",
       "      <td>33.492096</td>\n",
       "      <td>4.189413</td>\n",
       "    </tr>\n",
       "    <tr>\n",
       "      <th>86</th>\n",
       "      <td>The Usual Suspects</td>\n",
       "      <td>3334.0</td>\n",
       "      <td>8.1</td>\n",
       "      <td>1995</td>\n",
       "      <td>629</td>\n",
       "      <td>38.776227</td>\n",
       "      <td>4.122201</td>\n",
       "    </tr>\n",
       "  </tbody>\n",
       "</table>\n",
       "</div>"
      ],
      "text/plain": [
       "                       title  vote_count  vote_average  Year   id      Trust  \\\n",
       "76  The Shawshank Redemption      8358.0           8.5  1994  278  41.551177   \n",
       "67             The Godfather      6024.0           8.5  1972  238  60.690334   \n",
       "88     To Kill a Mockingbird       676.0           7.9  1962  595  54.418776   \n",
       "51            Reservoir Dogs      3821.0           8.1  1992  500  33.492096   \n",
       "86        The Usual Suspects      3334.0           8.1  1995  629  38.776227   \n",
       "\n",
       "         est  \n",
       "76  4.444154  \n",
       "67  4.389689  \n",
       "88  4.234950  \n",
       "51  4.189413  \n",
       "86  4.122201  "
      ]
     },
     "execution_count": 69,
     "metadata": {},
     "output_type": "execute_result"
    }
   ],
   "source": [
    "hybrid(2, 'The Dark Knight')\n"
   ]
  },
  {
   "cell_type": "markdown",
   "metadata": {},
   "source": [
    "for same movie as input we see different recommandations for user **2**"
   ]
  }
 ],
 "metadata": {
  "colab": {
   "name": "theMovie.ipynb",
   "provenance": []
  },
  "kernelspec": {
   "display_name": "Python 3",
   "language": "python",
   "name": "python3"
  },
  "language_info": {
   "codemirror_mode": {
    "name": "ipython",
    "version": 3
   },
   "file_extension": ".py",
   "mimetype": "text/x-python",
   "name": "python",
   "nbconvert_exporter": "python",
   "pygments_lexer": "ipython3",
   "version": "3.8.5"
  }
 },
 "nbformat": 4,
 "nbformat_minor": 4
}
